{
  "nbformat": 4,
  "nbformat_minor": 0,
  "metadata": {
    "colab": {
      "name": "Feature Engineering.ipynb",
      "provenance": [],
      "authorship_tag": "ABX9TyO/rhSp3TLYHKLQge4bB1Qn",
      "include_colab_link": true
    },
    "kernelspec": {
      "name": "python3",
      "display_name": "Python 3"
    },
    "language_info": {
      "name": "python"
    }
  },
  "cells": [
    {
      "cell_type": "markdown",
      "metadata": {
        "id": "view-in-github",
        "colab_type": "text"
      },
      "source": [
        "<a href=\"https://colab.research.google.com/github/riddhi-jain/Way-to-Machine-Learning/blob/main/Feature_Engineering.ipynb\" target=\"_parent\"><img src=\"https://colab.research.google.com/assets/colab-badge.svg\" alt=\"Open In Colab\"/></a>"
      ]
    },
    {
      "cell_type": "markdown",
      "metadata": {
        "id": "6BTivB0iow_U"
      },
      "source": [
        "# Handling Outliers"
      ]
    },
    {
      "cell_type": "code",
      "metadata": {
        "colab": {
          "base_uri": "https://localhost:8080/",
          "height": 204
        },
        "id": "naPJ_uqUm6ZR",
        "outputId": "c1a640bd-4d7c-4f92-cde4-c21667e1e570"
      },
      "source": [
        "import pandas as pd\n",
        "df = pd.read_csv(\"heights.csv\")\n",
        "df.head()"
      ],
      "execution_count": null,
      "outputs": [
        {
          "output_type": "execute_result",
          "data": {
            "text/html": [
              "<div>\n",
              "<style scoped>\n",
              "    .dataframe tbody tr th:only-of-type {\n",
              "        vertical-align: middle;\n",
              "    }\n",
              "\n",
              "    .dataframe tbody tr th {\n",
              "        vertical-align: top;\n",
              "    }\n",
              "\n",
              "    .dataframe thead th {\n",
              "        text-align: right;\n",
              "    }\n",
              "</style>\n",
              "<table border=\"1\" class=\"dataframe\">\n",
              "  <thead>\n",
              "    <tr style=\"text-align: right;\">\n",
              "      <th></th>\n",
              "      <th>name</th>\n",
              "      <th>height</th>\n",
              "    </tr>\n",
              "  </thead>\n",
              "  <tbody>\n",
              "    <tr>\n",
              "      <th>0</th>\n",
              "      <td>mohit</td>\n",
              "      <td>5.3</td>\n",
              "    </tr>\n",
              "    <tr>\n",
              "      <th>1</th>\n",
              "      <td>sakshi</td>\n",
              "      <td>5.2</td>\n",
              "    </tr>\n",
              "    <tr>\n",
              "      <th>2</th>\n",
              "      <td>arun</td>\n",
              "      <td>5.1</td>\n",
              "    </tr>\n",
              "    <tr>\n",
              "      <th>3</th>\n",
              "      <td>varun</td>\n",
              "      <td>4.9</td>\n",
              "    </tr>\n",
              "    <tr>\n",
              "      <th>4</th>\n",
              "      <td>ani</td>\n",
              "      <td>7.1</td>\n",
              "    </tr>\n",
              "  </tbody>\n",
              "</table>\n",
              "</div>"
            ],
            "text/plain": [
              "     name  height\n",
              "0  mohit      5.3\n",
              "1  sakshi     5.2\n",
              "2   arun      5.1\n",
              "3  varun      4.9\n",
              "4     ani     7.1"
            ]
          },
          "metadata": {
            "tags": []
          },
          "execution_count": 2
        }
      ]
    },
    {
      "cell_type": "markdown",
      "metadata": {
        "id": "qAVmWhdMpe2J"
      },
      "source": [
        "detecting outlier using percentile "
      ]
    },
    {
      "cell_type": "code",
      "metadata": {
        "colab": {
          "base_uri": "https://localhost:8080/"
        },
        "id": "jj8cLq1xo3aw",
        "outputId": "a94b8d55-7ab0-4b0c-bda8-a4cb6bcf5d93"
      },
      "source": [
        "# setting maximum value of a feature valid for our dataset\n",
        "max_threshold = df['height'].quantile(0.95)\n",
        "max_threshold"
      ],
      "execution_count": null,
      "outputs": [
        {
          "output_type": "execute_result",
          "data": {
            "text/plain": [
              "7.4799999999999995"
            ]
          },
          "metadata": {
            "tags": []
          },
          "execution_count": 3
        }
      ]
    },
    {
      "cell_type": "code",
      "metadata": {
        "colab": {
          "base_uri": "https://localhost:8080/",
          "height": 80
        },
        "id": "KqZjoB_AqGj4",
        "outputId": "aff6c875-9f68-4324-bd61-c639d8af6b55"
      },
      "source": [
        "# extracting data that falls out of max_threshold\n",
        "df[df['height']>max_threshold]"
      ],
      "execution_count": null,
      "outputs": [
        {
          "output_type": "execute_result",
          "data": {
            "text/html": [
              "<div>\n",
              "<style scoped>\n",
              "    .dataframe tbody tr th:only-of-type {\n",
              "        vertical-align: middle;\n",
              "    }\n",
              "\n",
              "    .dataframe tbody tr th {\n",
              "        vertical-align: top;\n",
              "    }\n",
              "\n",
              "    .dataframe thead th {\n",
              "        text-align: right;\n",
              "    }\n",
              "</style>\n",
              "<table border=\"1\" class=\"dataframe\">\n",
              "  <thead>\n",
              "    <tr style=\"text-align: right;\">\n",
              "      <th></th>\n",
              "      <th>name</th>\n",
              "      <th>height</th>\n",
              "    </tr>\n",
              "  </thead>\n",
              "  <tbody>\n",
              "    <tr>\n",
              "      <th>11</th>\n",
              "      <td>ramesh</td>\n",
              "      <td>8.0</td>\n",
              "    </tr>\n",
              "  </tbody>\n",
              "</table>\n",
              "</div>"
            ],
            "text/plain": [
              "      name  height\n",
              "11  ramesh     8.0"
            ]
          },
          "metadata": {
            "tags": []
          },
          "execution_count": 4
        }
      ]
    },
    {
      "cell_type": "code",
      "metadata": {
        "colab": {
          "base_uri": "https://localhost:8080/"
        },
        "id": "hPa_EFD-qPPc",
        "outputId": "d7087ebf-a252-4739-fad7-da9766c5a3d6"
      },
      "source": [
        "# setting minimum value of a feature valid for our dataset\n",
        "min_threshold = df['height'].quantile(0.05)\n",
        "min_threshold"
      ],
      "execution_count": null,
      "outputs": [
        {
          "output_type": "execute_result",
          "data": {
            "text/plain": [
              "3.6050000000000004"
            ]
          },
          "metadata": {
            "tags": []
          },
          "execution_count": 5
        }
      ]
    },
    {
      "cell_type": "code",
      "metadata": {
        "colab": {
          "base_uri": "https://localhost:8080/",
          "height": 80
        },
        "id": "sidK7f3wqSv5",
        "outputId": "3e80a309-7950-4a3f-d11d-b47d7a25f857"
      },
      "source": [
        "# extracting data that falls out of min_threshold\n",
        "df[df['height']<min_threshold]"
      ],
      "execution_count": null,
      "outputs": [
        {
          "output_type": "execute_result",
          "data": {
            "text/html": [
              "<div>\n",
              "<style scoped>\n",
              "    .dataframe tbody tr th:only-of-type {\n",
              "        vertical-align: middle;\n",
              "    }\n",
              "\n",
              "    .dataframe tbody tr th {\n",
              "        vertical-align: top;\n",
              "    }\n",
              "\n",
              "    .dataframe thead th {\n",
              "        text-align: right;\n",
              "    }\n",
              "</style>\n",
              "<table border=\"1\" class=\"dataframe\">\n",
              "  <thead>\n",
              "    <tr style=\"text-align: right;\">\n",
              "      <th></th>\n",
              "      <th>name</th>\n",
              "      <th>height</th>\n",
              "    </tr>\n",
              "  </thead>\n",
              "  <tbody>\n",
              "    <tr>\n",
              "      <th>7</th>\n",
              "      <td>anil</td>\n",
              "      <td>1.2</td>\n",
              "    </tr>\n",
              "  </tbody>\n",
              "</table>\n",
              "</div>"
            ],
            "text/plain": [
              "   name  height\n",
              "7  anil     1.2"
            ]
          },
          "metadata": {
            "tags": []
          },
          "execution_count": 7
        }
      ]
    },
    {
      "cell_type": "markdown",
      "metadata": {
        "id": "syNuhZ8HrC2I"
      },
      "source": [
        "Removing the outliers from dataset"
      ]
    },
    {
      "cell_type": "code",
      "metadata": {
        "colab": {
          "base_uri": "https://localhost:8080/",
          "height": 421
        },
        "id": "W0ZdKMVuq82X",
        "outputId": "94808948-16a6-4cf4-86df-323fffdf597a"
      },
      "source": [
        "# extracting valid dataset ignoring the outliers\n",
        "df[(df['height']< max_threshold) & (df['height']>min_threshold)]"
      ],
      "execution_count": null,
      "outputs": [
        {
          "output_type": "execute_result",
          "data": {
            "text/html": [
              "<div>\n",
              "<style scoped>\n",
              "    .dataframe tbody tr th:only-of-type {\n",
              "        vertical-align: middle;\n",
              "    }\n",
              "\n",
              "    .dataframe tbody tr th {\n",
              "        vertical-align: top;\n",
              "    }\n",
              "\n",
              "    .dataframe thead th {\n",
              "        text-align: right;\n",
              "    }\n",
              "</style>\n",
              "<table border=\"1\" class=\"dataframe\">\n",
              "  <thead>\n",
              "    <tr style=\"text-align: right;\">\n",
              "      <th></th>\n",
              "      <th>name</th>\n",
              "      <th>height</th>\n",
              "    </tr>\n",
              "  </thead>\n",
              "  <tbody>\n",
              "    <tr>\n",
              "      <th>0</th>\n",
              "      <td>mohit</td>\n",
              "      <td>5.3</td>\n",
              "    </tr>\n",
              "    <tr>\n",
              "      <th>1</th>\n",
              "      <td>sakshi</td>\n",
              "      <td>5.2</td>\n",
              "    </tr>\n",
              "    <tr>\n",
              "      <th>2</th>\n",
              "      <td>arun</td>\n",
              "      <td>5.1</td>\n",
              "    </tr>\n",
              "    <tr>\n",
              "      <th>3</th>\n",
              "      <td>varun</td>\n",
              "      <td>4.9</td>\n",
              "    </tr>\n",
              "    <tr>\n",
              "      <th>4</th>\n",
              "      <td>ani</td>\n",
              "      <td>7.1</td>\n",
              "    </tr>\n",
              "    <tr>\n",
              "      <th>5</th>\n",
              "      <td>amit</td>\n",
              "      <td>6.4</td>\n",
              "    </tr>\n",
              "    <tr>\n",
              "      <th>6</th>\n",
              "      <td>amita</td>\n",
              "      <td>6.5</td>\n",
              "    </tr>\n",
              "    <tr>\n",
              "      <th>8</th>\n",
              "      <td>sudha</td>\n",
              "      <td>6.0</td>\n",
              "    </tr>\n",
              "    <tr>\n",
              "      <th>9</th>\n",
              "      <td>ram</td>\n",
              "      <td>5.1</td>\n",
              "    </tr>\n",
              "    <tr>\n",
              "      <th>10</th>\n",
              "      <td>kamal</td>\n",
              "      <td>5.6</td>\n",
              "    </tr>\n",
              "    <tr>\n",
              "      <th>12</th>\n",
              "      <td>lokesh</td>\n",
              "      <td>7.2</td>\n",
              "    </tr>\n",
              "    <tr>\n",
              "      <th>13</th>\n",
              "      <td>madhu</td>\n",
              "      <td>5.9</td>\n",
              "    </tr>\n",
              "  </tbody>\n",
              "</table>\n",
              "</div>"
            ],
            "text/plain": [
              "      name  height\n",
              "0   mohit      5.3\n",
              "1   sakshi     5.2\n",
              "2    arun      5.1\n",
              "3   varun      4.9\n",
              "4      ani     7.1\n",
              "5    amit      6.4\n",
              "6    amita     6.5\n",
              "8   sudha      6.0\n",
              "9      ram     5.1\n",
              "10  kamal      5.6\n",
              "12  lokesh     7.2\n",
              "13   madhu     5.9"
            ]
          },
          "metadata": {
            "tags": []
          },
          "execution_count": 10
        }
      ]
    },
    {
      "cell_type": "markdown",
      "metadata": {
        "id": "Gp4yrlI4s2f8"
      },
      "source": [
        "Removing outliers on real life dataset- Bengaluru House Prices"
      ]
    },
    {
      "cell_type": "code",
      "metadata": {
        "colab": {
          "base_uri": "https://localhost:8080/",
          "height": 204
        },
        "id": "8whnrfXsqboT",
        "outputId": "29fb739d-a0d4-4c5a-b5a1-d28a7a48e442"
      },
      "source": [
        "hp = pd.read_csv(\"Bengaluru_House_Data.csv\")\n",
        "hp.head()"
      ],
      "execution_count": null,
      "outputs": [
        {
          "output_type": "execute_result",
          "data": {
            "text/html": [
              "<div>\n",
              "<style scoped>\n",
              "    .dataframe tbody tr th:only-of-type {\n",
              "        vertical-align: middle;\n",
              "    }\n",
              "\n",
              "    .dataframe tbody tr th {\n",
              "        vertical-align: top;\n",
              "    }\n",
              "\n",
              "    .dataframe thead th {\n",
              "        text-align: right;\n",
              "    }\n",
              "</style>\n",
              "<table border=\"1\" class=\"dataframe\">\n",
              "  <thead>\n",
              "    <tr style=\"text-align: right;\">\n",
              "      <th></th>\n",
              "      <th>area_type</th>\n",
              "      <th>availability</th>\n",
              "      <th>location</th>\n",
              "      <th>size</th>\n",
              "      <th>society</th>\n",
              "      <th>total_sqft</th>\n",
              "      <th>bath</th>\n",
              "      <th>balcony</th>\n",
              "      <th>price</th>\n",
              "    </tr>\n",
              "  </thead>\n",
              "  <tbody>\n",
              "    <tr>\n",
              "      <th>0</th>\n",
              "      <td>Super built-up  Area</td>\n",
              "      <td>19-Dec</td>\n",
              "      <td>Electronic City Phase II</td>\n",
              "      <td>2 BHK</td>\n",
              "      <td>Coomee</td>\n",
              "      <td>1056</td>\n",
              "      <td>2.0</td>\n",
              "      <td>1.0</td>\n",
              "      <td>39.07</td>\n",
              "    </tr>\n",
              "    <tr>\n",
              "      <th>1</th>\n",
              "      <td>Plot  Area</td>\n",
              "      <td>Ready To Move</td>\n",
              "      <td>Chikka Tirupathi</td>\n",
              "      <td>4 Bedroom</td>\n",
              "      <td>Theanmp</td>\n",
              "      <td>2600</td>\n",
              "      <td>5.0</td>\n",
              "      <td>3.0</td>\n",
              "      <td>120.00</td>\n",
              "    </tr>\n",
              "    <tr>\n",
              "      <th>2</th>\n",
              "      <td>Built-up  Area</td>\n",
              "      <td>Ready To Move</td>\n",
              "      <td>Uttarahalli</td>\n",
              "      <td>3 BHK</td>\n",
              "      <td>NaN</td>\n",
              "      <td>1440</td>\n",
              "      <td>2.0</td>\n",
              "      <td>3.0</td>\n",
              "      <td>62.00</td>\n",
              "    </tr>\n",
              "    <tr>\n",
              "      <th>3</th>\n",
              "      <td>Super built-up  Area</td>\n",
              "      <td>Ready To Move</td>\n",
              "      <td>Lingadheeranahalli</td>\n",
              "      <td>3 BHK</td>\n",
              "      <td>Soiewre</td>\n",
              "      <td>1521</td>\n",
              "      <td>3.0</td>\n",
              "      <td>1.0</td>\n",
              "      <td>95.00</td>\n",
              "    </tr>\n",
              "    <tr>\n",
              "      <th>4</th>\n",
              "      <td>Super built-up  Area</td>\n",
              "      <td>Ready To Move</td>\n",
              "      <td>Kothanur</td>\n",
              "      <td>2 BHK</td>\n",
              "      <td>NaN</td>\n",
              "      <td>1200</td>\n",
              "      <td>2.0</td>\n",
              "      <td>1.0</td>\n",
              "      <td>51.00</td>\n",
              "    </tr>\n",
              "  </tbody>\n",
              "</table>\n",
              "</div>"
            ],
            "text/plain": [
              "              area_type   availability  ... balcony   price\n",
              "0  Super built-up  Area         19-Dec  ...     1.0   39.07\n",
              "1            Plot  Area  Ready To Move  ...     3.0  120.00\n",
              "2        Built-up  Area  Ready To Move  ...     3.0   62.00\n",
              "3  Super built-up  Area  Ready To Move  ...     1.0   95.00\n",
              "4  Super built-up  Area  Ready To Move  ...     1.0   51.00\n",
              "\n",
              "[5 rows x 9 columns]"
            ]
          },
          "metadata": {
            "tags": []
          },
          "execution_count": 35
        }
      ]
    },
    {
      "cell_type": "code",
      "metadata": {
        "colab": {
          "base_uri": "https://localhost:8080/"
        },
        "id": "IGkj-VzktLTV",
        "outputId": "70c6ce09-2a79-4c32-c8d7-035f04455aeb"
      },
      "source": [
        "hp.shape, hp.describe"
      ],
      "execution_count": null,
      "outputs": [
        {
          "output_type": "execute_result",
          "data": {
            "text/plain": [
              "((13320, 9),\n",
              " <bound method NDFrame.describe of                   area_type   availability  ... balcony   price\n",
              " 0      Super built-up  Area         19-Dec  ...     1.0   39.07\n",
              " 1                Plot  Area  Ready To Move  ...     3.0  120.00\n",
              " 2            Built-up  Area  Ready To Move  ...     3.0   62.00\n",
              " 3      Super built-up  Area  Ready To Move  ...     1.0   95.00\n",
              " 4      Super built-up  Area  Ready To Move  ...     1.0   51.00\n",
              " ...                     ...            ...  ...     ...     ...\n",
              " 13315        Built-up  Area  Ready To Move  ...     0.0  231.00\n",
              " 13316  Super built-up  Area  Ready To Move  ...     NaN  400.00\n",
              " 13317        Built-up  Area  Ready To Move  ...     1.0   60.00\n",
              " 13318  Super built-up  Area         18-Jun  ...     1.0  488.00\n",
              " 13319  Super built-up  Area  Ready To Move  ...     1.0   17.00\n",
              " \n",
              " [13320 rows x 9 columns]>)"
            ]
          },
          "metadata": {
            "tags": []
          },
          "execution_count": 36
        }
      ]
    },
    {
      "cell_type": "code",
      "metadata": {
        "colab": {
          "base_uri": "https://localhost:8080/"
        },
        "id": "z2txfPrduD-c",
        "outputId": "48d9c98b-48ac-4277-fff8-84e018883734"
      },
      "source": [
        "hp.dtypes"
      ],
      "execution_count": null,
      "outputs": [
        {
          "output_type": "execute_result",
          "data": {
            "text/plain": [
              "area_type        object\n",
              "availability     object\n",
              "location         object\n",
              "size             object\n",
              "society          object\n",
              "total_sqft       object\n",
              "bath            float64\n",
              "balcony         float64\n",
              "price           float64\n",
              "dtype: object"
            ]
          },
          "metadata": {
            "tags": []
          },
          "execution_count": 37
        }
      ]
    },
    {
      "cell_type": "code",
      "metadata": {
        "colab": {
          "base_uri": "https://localhost:8080/"
        },
        "id": "W_I4Rd5Js0o7",
        "outputId": "717e428c-18f2-41b9-8eeb-2b2a63527665"
      },
      "source": [
        "# setting outliers limit\n",
        "hp_min_threshold, hp_max_threshold = hp['price'].quantile([0.001, 0.999])\n",
        "hp_min_threshold, hp_max_threshold"
      ],
      "execution_count": null,
      "outputs": [
        {
          "output_type": "execute_result",
          "data": {
            "text/plain": [
              "(11.159500000000001, 2000.0)"
            ]
          },
          "metadata": {
            "tags": []
          },
          "execution_count": 38
        }
      ]
    },
    {
      "cell_type": "code",
      "metadata": {
        "colab": {
          "base_uri": "https://localhost:8080/",
          "height": 204
        },
        "id": "4259nApVuydw",
        "outputId": "e397a0b1-e714-4d7a-e565-132da9954fe7"
      },
      "source": [
        "# lower bound outliers\n",
        "hp[(hp['price']< hp_min_threshold)].head()"
      ],
      "execution_count": null,
      "outputs": [
        {
          "output_type": "execute_result",
          "data": {
            "text/html": [
              "<div>\n",
              "<style scoped>\n",
              "    .dataframe tbody tr th:only-of-type {\n",
              "        vertical-align: middle;\n",
              "    }\n",
              "\n",
              "    .dataframe tbody tr th {\n",
              "        vertical-align: top;\n",
              "    }\n",
              "\n",
              "    .dataframe thead th {\n",
              "        text-align: right;\n",
              "    }\n",
              "</style>\n",
              "<table border=\"1\" class=\"dataframe\">\n",
              "  <thead>\n",
              "    <tr style=\"text-align: right;\">\n",
              "      <th></th>\n",
              "      <th>area_type</th>\n",
              "      <th>availability</th>\n",
              "      <th>location</th>\n",
              "      <th>size</th>\n",
              "      <th>society</th>\n",
              "      <th>total_sqft</th>\n",
              "      <th>bath</th>\n",
              "      <th>balcony</th>\n",
              "      <th>price</th>\n",
              "    </tr>\n",
              "  </thead>\n",
              "  <tbody>\n",
              "    <tr>\n",
              "      <th>171</th>\n",
              "      <td>Super built-up  Area</td>\n",
              "      <td>Ready To Move</td>\n",
              "      <td>Attibele</td>\n",
              "      <td>1 BHK</td>\n",
              "      <td>Jae 1hu</td>\n",
              "      <td>450</td>\n",
              "      <td>1.0</td>\n",
              "      <td>1.0</td>\n",
              "      <td>11.00</td>\n",
              "    </tr>\n",
              "    <tr>\n",
              "      <th>942</th>\n",
              "      <td>Built-up  Area</td>\n",
              "      <td>Ready To Move</td>\n",
              "      <td>Attibele</td>\n",
              "      <td>1 BHK</td>\n",
              "      <td>Jae 2hu</td>\n",
              "      <td>400</td>\n",
              "      <td>1.0</td>\n",
              "      <td>1.0</td>\n",
              "      <td>11.00</td>\n",
              "    </tr>\n",
              "    <tr>\n",
              "      <th>1471</th>\n",
              "      <td>Built-up  Area</td>\n",
              "      <td>18-Mar</td>\n",
              "      <td>Kengeri</td>\n",
              "      <td>1 BHK</td>\n",
              "      <td>NaN</td>\n",
              "      <td>340</td>\n",
              "      <td>1.0</td>\n",
              "      <td>1.0</td>\n",
              "      <td>10.00</td>\n",
              "    </tr>\n",
              "    <tr>\n",
              "      <th>2437</th>\n",
              "      <td>Built-up  Area</td>\n",
              "      <td>Ready To Move</td>\n",
              "      <td>Attibele</td>\n",
              "      <td>1 BHK</td>\n",
              "      <td>Jae 1hu</td>\n",
              "      <td>395</td>\n",
              "      <td>1.0</td>\n",
              "      <td>1.0</td>\n",
              "      <td>10.25</td>\n",
              "    </tr>\n",
              "    <tr>\n",
              "      <th>4113</th>\n",
              "      <td>Super built-up  Area</td>\n",
              "      <td>18-Jan</td>\n",
              "      <td>BTM Layout</td>\n",
              "      <td>3 BHK</td>\n",
              "      <td>NaN</td>\n",
              "      <td>167Sq. Meter</td>\n",
              "      <td>3.0</td>\n",
              "      <td>2.0</td>\n",
              "      <td>10.00</td>\n",
              "    </tr>\n",
              "  </tbody>\n",
              "</table>\n",
              "</div>"
            ],
            "text/plain": [
              "                 area_type   availability    location  ... bath balcony  price\n",
              "171   Super built-up  Area  Ready To Move    Attibele  ...  1.0     1.0  11.00\n",
              "942         Built-up  Area  Ready To Move    Attibele  ...  1.0     1.0  11.00\n",
              "1471        Built-up  Area         18-Mar     Kengeri  ...  1.0     1.0  10.00\n",
              "2437        Built-up  Area  Ready To Move    Attibele  ...  1.0     1.0  10.25\n",
              "4113  Super built-up  Area         18-Jan  BTM Layout  ...  3.0     2.0  10.00\n",
              "\n",
              "[5 rows x 9 columns]"
            ]
          },
          "metadata": {
            "tags": []
          },
          "execution_count": 40
        }
      ]
    },
    {
      "cell_type": "code",
      "metadata": {
        "colab": {
          "base_uri": "https://localhost:8080/",
          "height": 204
        },
        "id": "fJbdcoibvdZ5",
        "outputId": "9c87ec73-b7d4-4444-d6df-b6be0ca39c62"
      },
      "source": [
        "# upper bound outliers\n",
        "hp[(hp['price']> hp_max_threshold)].head()"
      ],
      "execution_count": null,
      "outputs": [
        {
          "output_type": "execute_result",
          "data": {
            "text/html": [
              "<div>\n",
              "<style scoped>\n",
              "    .dataframe tbody tr th:only-of-type {\n",
              "        vertical-align: middle;\n",
              "    }\n",
              "\n",
              "    .dataframe tbody tr th {\n",
              "        vertical-align: top;\n",
              "    }\n",
              "\n",
              "    .dataframe thead th {\n",
              "        text-align: right;\n",
              "    }\n",
              "</style>\n",
              "<table border=\"1\" class=\"dataframe\">\n",
              "  <thead>\n",
              "    <tr style=\"text-align: right;\">\n",
              "      <th></th>\n",
              "      <th>area_type</th>\n",
              "      <th>availability</th>\n",
              "      <th>location</th>\n",
              "      <th>size</th>\n",
              "      <th>society</th>\n",
              "      <th>total_sqft</th>\n",
              "      <th>bath</th>\n",
              "      <th>balcony</th>\n",
              "      <th>price</th>\n",
              "    </tr>\n",
              "  </thead>\n",
              "  <tbody>\n",
              "    <tr>\n",
              "      <th>408</th>\n",
              "      <td>Super built-up  Area</td>\n",
              "      <td>19-Jan</td>\n",
              "      <td>Rajaji Nagar</td>\n",
              "      <td>7 BHK</td>\n",
              "      <td>NaN</td>\n",
              "      <td>12000</td>\n",
              "      <td>6.0</td>\n",
              "      <td>3.0</td>\n",
              "      <td>2200.0</td>\n",
              "    </tr>\n",
              "    <tr>\n",
              "      <th>605</th>\n",
              "      <td>Super built-up  Area</td>\n",
              "      <td>19-Jan</td>\n",
              "      <td>Malleshwaram</td>\n",
              "      <td>7 BHK</td>\n",
              "      <td>NaN</td>\n",
              "      <td>12000</td>\n",
              "      <td>7.0</td>\n",
              "      <td>3.0</td>\n",
              "      <td>2200.0</td>\n",
              "    </tr>\n",
              "    <tr>\n",
              "      <th>2623</th>\n",
              "      <td>Plot  Area</td>\n",
              "      <td>18-Jul</td>\n",
              "      <td>Dodsworth Layout</td>\n",
              "      <td>4 Bedroom</td>\n",
              "      <td>NaN</td>\n",
              "      <td>30000</td>\n",
              "      <td>4.0</td>\n",
              "      <td>NaN</td>\n",
              "      <td>2100.0</td>\n",
              "    </tr>\n",
              "    <tr>\n",
              "      <th>3180</th>\n",
              "      <td>Super built-up  Area</td>\n",
              "      <td>Ready To Move</td>\n",
              "      <td>Shanthala Nagar</td>\n",
              "      <td>5 BHK</td>\n",
              "      <td>Kierser</td>\n",
              "      <td>8321</td>\n",
              "      <td>5.0</td>\n",
              "      <td>3.0</td>\n",
              "      <td>2700.0</td>\n",
              "    </tr>\n",
              "    <tr>\n",
              "      <th>4162</th>\n",
              "      <td>Built-up  Area</td>\n",
              "      <td>Ready To Move</td>\n",
              "      <td>Yemlur</td>\n",
              "      <td>4 Bedroom</td>\n",
              "      <td>Epllan</td>\n",
              "      <td>7000</td>\n",
              "      <td>5.0</td>\n",
              "      <td>NaN</td>\n",
              "      <td>2050.0</td>\n",
              "    </tr>\n",
              "  </tbody>\n",
              "</table>\n",
              "</div>"
            ],
            "text/plain": [
              "                 area_type   availability  ... balcony   price\n",
              "408   Super built-up  Area         19-Jan  ...     3.0  2200.0\n",
              "605   Super built-up  Area         19-Jan  ...     3.0  2200.0\n",
              "2623            Plot  Area         18-Jul  ...     NaN  2100.0\n",
              "3180  Super built-up  Area  Ready To Move  ...     3.0  2700.0\n",
              "4162        Built-up  Area  Ready To Move  ...     NaN  2050.0\n",
              "\n",
              "[5 rows x 9 columns]"
            ]
          },
          "metadata": {
            "tags": []
          },
          "execution_count": 42
        }
      ]
    },
    {
      "cell_type": "code",
      "metadata": {
        "colab": {
          "base_uri": "https://localhost:8080/"
        },
        "id": "0BCuk9YtvmU3",
        "outputId": "5786f495-ac43-4494-e1e7-9c3914d1a352"
      },
      "source": [
        "# new dataset after removing outliers\n",
        "hp_new = hp[(hp['price']<hp_max_threshold) & (hp['price']> hp_min_threshold)]\n",
        "hp_new.shape"
      ],
      "execution_count": null,
      "outputs": [
        {
          "output_type": "execute_result",
          "data": {
            "text/plain": [
              "(13291, 9)"
            ]
          },
          "metadata": {
            "tags": []
          },
          "execution_count": 43
        }
      ]
    },
    {
      "cell_type": "markdown",
      "metadata": {
        "id": "aUVKTpIcyG1_"
      },
      "source": [
        "Creating a heatmap "
      ]
    },
    {
      "cell_type": "code",
      "metadata": {
        "id": "hPaqwRlFwzgp"
      },
      "source": [
        "import seaborn as sns"
      ],
      "execution_count": null,
      "outputs": []
    },
    {
      "cell_type": "code",
      "metadata": {
        "colab": {
          "base_uri": "https://localhost:8080/",
          "height": 269
        },
        "id": "4tWewHn2yTUR",
        "outputId": "b59e8cfd-d9b2-4a58-c4f0-2fbeff55ec0c"
      },
      "source": [
        "realtion = hp_new.corr()\n",
        "sns.heatmap(realtion, annot = True, linewidths= 0, linecolor= 'black');"
      ],
      "execution_count": null,
      "outputs": [
        {
          "output_type": "display_data",
          "data": {
            "image/png": "[encoded data removed]",
            "text/plain": [
              "<Figure size 432x288 with 2 Axes>"
            ]
          },
          "metadata": {
            "tags": [],
            "needs_background": "light"
          }
        }
      ]
    },
    {
      "cell_type": "markdown",
      "metadata": {
        "id": "yW5NChQY1UcU"
      },
      "source": [
        "# Z-score"
      ]
    },
    {
      "cell_type": "markdown",
      "metadata": {
        "id": "r2zucLIA0sa4"
      },
      "source": [
        "Z- score gives an idea of how far a data point is from the mean.\n",
        "\n",
        "z-score = (data - mean_data) / standard deviation "
      ]
    },
    {
      "cell_type": "markdown",
      "metadata": {
        "id": "sZ_AbdOk2euv"
      },
      "source": [
        "![z-score.jpg](data:image/jpeg;base64,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)"
      ]
    },
    {
      "cell_type": "code",
      "metadata": {
        "colab": {
          "base_uri": "https://localhost:8080/",
          "height": 306
        },
        "id": "V7GKZdJD0rrS",
        "outputId": "fbd40f0e-d927-49e3-aa75-08fac7220c4b"
      },
      "source": [
        "# calculating z-score for hp_new data set\n",
        "hp_new['z-score'] = (hp_new['price'] - hp_new['price'].mean()) / (hp_new['price'].std())\n",
        "hp_new.head()"
      ],
      "execution_count": null,
      "outputs": [
        {
          "output_type": "stream",
          "text": [
            "/usr/local/lib/python3.7/dist-packages/ipykernel_launcher.py:2: SettingWithCopyWarning: \n",
            "A value is trying to be set on a copy of a slice from a DataFrame.\n",
            "Try using .loc[row_indexer,col_indexer] = value instead\n",
            "\n",
            "See the caveats in the documentation: https://pandas.pydata.org/pandas-docs/stable/user_guide/indexing.html#returning-a-view-versus-a-copy\n",
            "  \n"
          ],
          "name": "stderr"
        },
        {
          "output_type": "execute_result",
          "data": {
            "text/html": [
              "<div>\n",
              "<style scoped>\n",
              "    .dataframe tbody tr th:only-of-type {\n",
              "        vertical-align: middle;\n",
              "    }\n",
              "\n",
              "    .dataframe tbody tr th {\n",
              "        vertical-align: top;\n",
              "    }\n",
              "\n",
              "    .dataframe thead th {\n",
              "        text-align: right;\n",
              "    }\n",
              "</style>\n",
              "<table border=\"1\" class=\"dataframe\">\n",
              "  <thead>\n",
              "    <tr style=\"text-align: right;\">\n",
              "      <th></th>\n",
              "      <th>area_type</th>\n",
              "      <th>availability</th>\n",
              "      <th>location</th>\n",
              "      <th>size</th>\n",
              "      <th>society</th>\n",
              "      <th>total_sqft</th>\n",
              "      <th>bath</th>\n",
              "      <th>balcony</th>\n",
              "      <th>price</th>\n",
              "      <th>z-score</th>\n",
              "    </tr>\n",
              "  </thead>\n",
              "  <tbody>\n",
              "    <tr>\n",
              "      <th>0</th>\n",
              "      <td>Super built-up  Area</td>\n",
              "      <td>19-Dec</td>\n",
              "      <td>Electronic City Phase II</td>\n",
              "      <td>2 BHK</td>\n",
              "      <td>Coomee</td>\n",
              "      <td>1056</td>\n",
              "      <td>2.0</td>\n",
              "      <td>1.0</td>\n",
              "      <td>39.07</td>\n",
              "      <td>-0.565558</td>\n",
              "    </tr>\n",
              "    <tr>\n",
              "      <th>1</th>\n",
              "      <td>Plot  Area</td>\n",
              "      <td>Ready To Move</td>\n",
              "      <td>Chikka Tirupathi</td>\n",
              "      <td>4 Bedroom</td>\n",
              "      <td>Theanmp</td>\n",
              "      <td>2600</td>\n",
              "      <td>5.0</td>\n",
              "      <td>3.0</td>\n",
              "      <td>120.00</td>\n",
              "      <td>0.079640</td>\n",
              "    </tr>\n",
              "    <tr>\n",
              "      <th>2</th>\n",
              "      <td>Built-up  Area</td>\n",
              "      <td>Ready To Move</td>\n",
              "      <td>Uttarahalli</td>\n",
              "      <td>3 BHK</td>\n",
              "      <td>NaN</td>\n",
              "      <td>1440</td>\n",
              "      <td>2.0</td>\n",
              "      <td>3.0</td>\n",
              "      <td>62.00</td>\n",
              "      <td>-0.382753</td>\n",
              "    </tr>\n",
              "    <tr>\n",
              "      <th>3</th>\n",
              "      <td>Super built-up  Area</td>\n",
              "      <td>Ready To Move</td>\n",
              "      <td>Lingadheeranahalli</td>\n",
              "      <td>3 BHK</td>\n",
              "      <td>Soiewre</td>\n",
              "      <td>1521</td>\n",
              "      <td>3.0</td>\n",
              "      <td>1.0</td>\n",
              "      <td>95.00</td>\n",
              "      <td>-0.119667</td>\n",
              "    </tr>\n",
              "    <tr>\n",
              "      <th>4</th>\n",
              "      <td>Super built-up  Area</td>\n",
              "      <td>Ready To Move</td>\n",
              "      <td>Kothanur</td>\n",
              "      <td>2 BHK</td>\n",
              "      <td>NaN</td>\n",
              "      <td>1200</td>\n",
              "      <td>2.0</td>\n",
              "      <td>1.0</td>\n",
              "      <td>51.00</td>\n",
              "      <td>-0.470448</td>\n",
              "    </tr>\n",
              "  </tbody>\n",
              "</table>\n",
              "</div>"
            ],
            "text/plain": [
              "              area_type   availability  ...   price   z-score\n",
              "0  Super built-up  Area         19-Dec  ...   39.07 -0.565558\n",
              "1            Plot  Area  Ready To Move  ...  120.00  0.079640\n",
              "2        Built-up  Area  Ready To Move  ...   62.00 -0.382753\n",
              "3  Super built-up  Area  Ready To Move  ...   95.00 -0.119667\n",
              "4  Super built-up  Area  Ready To Move  ...   51.00 -0.470448\n",
              "\n",
              "[5 rows x 10 columns]"
            ]
          },
          "metadata": {
            "tags": []
          },
          "execution_count": 58
        }
      ]
    }
  ]
}